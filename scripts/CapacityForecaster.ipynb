{
 "cells": [
  {
   "cell_type": "code",
   "execution_count": 41,
   "metadata": {},
   "outputs": [],
   "source": [
    "import numpy as np\n",
    "import configparser\n",
    "import pandas as pd\n",
    "import datetime"
   ]
  },
  {
   "cell_type": "code",
   "execution_count": 42,
   "metadata": {},
   "outputs": [],
   "source": [
    "#Read Config Text File\n",
    "configParser = configparser.RawConfigParser()\n",
    "configPath = '../config/config.txt'\n",
    "configParser.read(configPath)\n",
    "\n",
    "paths = dict(configParser.items('FILEPATHS'))\n",
    "fieldMappings = dict(configParser.items('MAPPINGS'))\n",
    "defaults = dict(configParser.items('default'))\n",
    "flows = dict(configParser.items('FLOW'))\n",
    "\n",
    "inputPath = paths['inputpath']\n",
    "outputPath = paths['outputpath']\n",
    "deviceName = defaults['storagetype']\n",
    "frequency = defaults['frequency']\n",
    "forecasthorizon = defaults['forecasthorizon']\n",
    "forecasthorizon = int(forecasthorizon)\n",
    "\n",
    "accountname = defaults['accountname']"
   ]
  },
  {
   "cell_type": "code",
   "execution_count": 43,
   "metadata": {},
   "outputs": [],
   "source": [
    "components = ['volume']\n",
    "component = components[0]"
   ]
  },
  {
   "cell_type": "code",
   "execution_count": 44,
   "metadata": {},
   "outputs": [],
   "source": [
    "savepath = f\"../data/processedOutputs/{accountname}_{component}_processed.csv\"\n",
    "data = pd.read_csv(savepath,low_memory=False)"
   ]
  },
  {
   "cell_type": "code",
   "execution_count": 45,
   "metadata": {},
   "outputs": [],
   "source": [
    "uniqcomponents = data[['system','pool','volume']].drop_duplicates()\n",
    "uniqcomponents['compid'] = np.arange(len(uniqcomponents))"
   ]
  },
  {
   "cell_type": "code",
   "execution_count": 46,
   "metadata": {},
   "outputs": [],
   "source": [
    "#join compid back to original dataframe and drop [system-pool-volume]\n",
    "data = data.merge(uniqcomponents,on=['system','pool','volume'])\n",
    "data = data.drop(['system','pool','volume'],axis=1)"
   ]
  },
  {
   "cell_type": "code",
   "execution_count": 47,
   "metadata": {},
   "outputs": [],
   "source": [
    "def findzerocapacity(df):\n",
    "    tmpdf = df.groupby(['compid'])['volumeutilization'].mean().reset_index()\n",
    "    tmpdf = tmpdf[tmpdf['volumeutilization'] > 0]\n",
    "    df = df[df['compid'].isin(tmpdf['compid'])]\n",
    "    return df"
   ]
  },
  {
   "cell_type": "code",
   "execution_count": 48,
   "metadata": {},
   "outputs": [],
   "source": [
    "data = findzerocapacity(data)"
   ]
  },
  {
   "cell_type": "code",
   "execution_count": 49,
   "metadata": {},
   "outputs": [],
   "source": [
    "data['date'] = data['date'].apply(lambda x:datetime.datetime.strptime(x,'%Y-%m-%d'))\n",
    "data.set_index('date', inplace = True)"
   ]
  },
  {
   "cell_type": "code",
   "execution_count": 50,
   "metadata": {},
   "outputs": [],
   "source": [
    "data = data[['compid','volumeutilization']]"
   ]
  },
  {
   "cell_type": "code",
   "execution_count": 51,
   "metadata": {},
   "outputs": [],
   "source": [
    "sequence_in = 14\n",
    "sequence_out = 7\n",
    "\n",
    "def gen_sequence(id_df,seq_in,seq_out,seq_cols):\n",
    "    data_matrix = id_df[seq_cols].values\n",
    "    num_elements = data_matrix.shape[0]\n",
    "    for start, stop in zip(range(0, num_elements-seq_in-seq_out), range(seq_in, num_elements-seq_out)):\n",
    "        yield data_matrix[start:stop, :]\n",
    "        \n",
    "def gen_labels(id_df,seq_in,seq_out,label):\n",
    "    data_matrix = id_df[label].values\n",
    "    num_elements = data_matrix.shape[0]\n",
    "    for start,stop in zip(range(seq_in,num_elements-seq_out),range(seq_in+seq_out,num_elements)):\n",
    "        yield data_matrix[start:stop,:]"
   ]
  },
  {
   "cell_type": "code",
   "execution_count": 52,
   "metadata": {},
   "outputs": [],
   "source": [
    "#find max week\n",
    "maxdate = data.index.max()\n",
    "cutoff = maxdate - datetime.timedelta(days=30)"
   ]
  },
  {
   "cell_type": "code",
   "execution_count": 53,
   "metadata": {},
   "outputs": [],
   "source": [
    "data = data.fillna(0)"
   ]
  },
  {
   "cell_type": "code",
   "execution_count": 54,
   "metadata": {},
   "outputs": [],
   "source": [
    "X_train,X_test = [],[]\n",
    "\n",
    "for comps in data['compid'].unique():\n",
    "    for sequence in gen_sequence(data[(data['compid'] == comps) & (data.index <= cutoff)],sequence_in,sequence_out,['volumeutilization']):\n",
    "        X_train.append(sequence)\n",
    "    for sequence in gen_sequence(data[(data['compid'] == comps)& (data.index > cutoff)],sequence_in,sequence_out,['volumeutilization']):\n",
    "        X_test.append(sequence)\n"
   ]
  },
  {
   "cell_type": "code",
   "execution_count": 55,
   "metadata": {},
   "outputs": [],
   "source": [
    "y_train,y_test = [],[]\n",
    "\n",
    "for comps in data['compid'].unique():\n",
    "    for sequence in gen_labels(data[(data['compid'] == comps) & (data.index <= cutoff)],sequence_in,sequence_out,['volumeutilization']):\n",
    "        y_train.append(sequence)\n",
    "    for sequence in gen_labels(data[(data['compid'] == comps)& (data.index > cutoff)],sequence_in,sequence_out,['volumeutilization']):\n",
    "        y_test.append(sequence)"
   ]
  },
  {
   "cell_type": "code",
   "execution_count": 56,
   "metadata": {},
   "outputs": [],
   "source": [
    "X_train,X_test = np.asarray(X_train),np.asarray(X_test)\n",
    "y_train,y_test = np.asarray(y_train),np.asarray(y_test)"
   ]
  },
  {
   "cell_type": "code",
   "execution_count": 57,
   "metadata": {},
   "outputs": [
    {
     "data": {
      "text/plain": [
       "(2241, 14, 1)"
      ]
     },
     "execution_count": 57,
     "metadata": {},
     "output_type": "execute_result"
    }
   ],
   "source": [
    "X_test.shape"
   ]
  },
  {
   "cell_type": "code",
   "execution_count": 58,
   "metadata": {},
   "outputs": [
    {
     "data": {
      "text/plain": [
       "(2241, 7, 1)"
      ]
     },
     "execution_count": 58,
     "metadata": {},
     "output_type": "execute_result"
    }
   ],
   "source": [
    "y_test.shape"
   ]
  },
  {
   "cell_type": "code",
   "execution_count": 59,
   "metadata": {},
   "outputs": [],
   "source": [
    "# use entity embeddings\n",
    "import tensorflow as tf\n",
    "from tensorflow.keras import Sequential\n",
    "from tensorflow.keras import layers\n",
    "from tensorflow.keras.models import Model\n",
    "from tensorflow.keras.optimizers import Adam"
   ]
  },
  {
   "cell_type": "code",
   "execution_count": 68,
   "metadata": {},
   "outputs": [],
   "source": [
    "def build_model(train_x, train_y,h1=100,h2=50):\n",
    "    n_timesteps, n_features, n_outputs = train_x.shape[1], train_x.shape[2], train_y.shape[1]\n",
    "    # define model\n",
    "    model = Sequential()\n",
    "    model.add(layers.LSTM(h1, activation='relu', input_shape=(n_timesteps, n_features)))\n",
    "    model.add(layers.Dense(h2, activation='relu'))\n",
    "    model.add(layers.Dense(n_outputs))\n",
    "    model.compile(loss='mse', optimizer='adam')\n",
    "    return model"
   ]
  },
  {
   "cell_type": "code",
   "execution_count": 69,
   "metadata": {},
   "outputs": [],
   "source": [
    "simpleseq = build_model(X_train,y_train)"
   ]
  },
  {
   "cell_type": "code",
   "execution_count": 70,
   "metadata": {},
   "outputs": [
    {
     "name": "stdout",
     "output_type": "stream",
     "text": [
      "Epoch 1/20\n",
      "179/179 [==============================] - 4s 20ms/step - loss: 0.0082 - val_loss: 0.0056\n",
      "Epoch 2/20\n",
      "179/179 [==============================] - 3s 19ms/step - loss: 0.0033 - val_loss: 0.0055\n",
      "Epoch 3/20\n",
      "179/179 [==============================] - 4s 20ms/step - loss: 0.0033 - val_loss: 0.0053\n",
      "Epoch 4/20\n",
      "179/179 [==============================] - 4s 20ms/step - loss: 0.0032 - val_loss: 0.0053\n",
      "Epoch 5/20\n",
      "179/179 [==============================] - 4s 20ms/step - loss: 0.0032 - val_loss: 0.0053\n",
      "Epoch 6/20\n",
      "179/179 [==============================] - 4s 21ms/step - loss: 0.0032 - val_loss: 0.0054\n",
      "Epoch 7/20\n",
      "179/179 [==============================] - 3s 19ms/step - loss: 0.0031 - val_loss: 0.0051\n",
      "Epoch 8/20\n",
      "179/179 [==============================] - 4s 20ms/step - loss: 0.0031 - val_loss: 0.0051\n",
      "Epoch 9/20\n",
      "179/179 [==============================] - 4s 20ms/step - loss: 0.0030 - val_loss: 0.0048\n",
      "Epoch 10/20\n",
      "179/179 [==============================] - 3s 19ms/step - loss: 0.0029 - val_loss: 0.0049\n",
      "Epoch 11/20\n",
      "179/179 [==============================] - 4s 20ms/step - loss: 0.0028 - val_loss: 0.0048\n",
      "Epoch 12/20\n",
      "179/179 [==============================] - 4s 20ms/step - loss: 0.0028 - val_loss: 0.0047\n",
      "Epoch 13/20\n",
      "179/179 [==============================] - 3s 19ms/step - loss: 0.0027 - val_loss: 0.0045\n",
      "Epoch 14/20\n",
      "179/179 [==============================] - 4s 20ms/step - loss: 0.0027 - val_loss: 0.0044\n",
      "Epoch 15/20\n",
      "179/179 [==============================] - 4s 20ms/step - loss: 0.0027 - val_loss: 0.0043\n",
      "Epoch 16/20\n",
      "179/179 [==============================] - 4s 20ms/step - loss: 0.0026 - val_loss: 0.0044\n",
      "Epoch 17/20\n",
      "179/179 [==============================] - 4s 20ms/step - loss: 0.0026 - val_loss: 0.0044\n",
      "Epoch 18/20\n",
      "179/179 [==============================] - 4s 20ms/step - loss: 0.0026 - val_loss: 0.0043\n",
      "Epoch 19/20\n",
      "179/179 [==============================] - 4s 20ms/step - loss: 0.0026 - val_loss: 0.0043\n",
      "Epoch 20/20\n",
      "179/179 [==============================] - 4s 20ms/step - loss: 0.0025 - val_loss: 0.0041\n"
     ]
    }
   ],
   "source": [
    "history = simpleseq.fit(X_train,y_train,\n",
    "                   epochs=20,\n",
    "                   batch_size=128,\n",
    "                   validation_split = 0.2,\n",
    "                   verbose=1)"
   ]
  },
  {
   "cell_type": "code",
   "execution_count": 74,
   "metadata": {},
   "outputs": [],
   "source": [
    "testpreds = simpleseq.predict(X_test)"
   ]
  },
  {
   "cell_type": "code",
   "execution_count": 79,
   "metadata": {},
   "outputs": [
    {
     "data": {
      "text/plain": [
       "0.00421984653249681"
      ]
     },
     "execution_count": 79,
     "metadata": {},
     "output_type": "execute_result"
    }
   ],
   "source": [
    "from sklearn.metrics import mean_squared_error\n",
    "ytesteval = y_test.reshape(y_test.shape[0],y_test.shape[1]*y_test.shape[2])\n",
    "testmse = mean_squared_error(testpreds,ytesteval)\n",
    "testmse"
   ]
  },
  {
   "cell_type": "code",
   "execution_count": 85,
   "metadata": {},
   "outputs": [
    {
     "data": {
      "text/plain": [
       "(3486, 2)"
      ]
     },
     "execution_count": 85,
     "metadata": {},
     "output_type": "execute_result"
    }
   ],
   "source": [
    "#get last value from input data to predict future sequences\n",
    "last_ts = maxdate - datetime.timedelta(days=sequence_in)\n",
    "last_ts_df = data[data.index > last_ts]\n",
    "last_ts_df.shape"
   ]
  },
  {
   "cell_type": "code",
   "execution_count": 90,
   "metadata": {},
   "outputs": [],
   "source": [
    "fut_preds = []\n",
    "\n",
    "for comps in last_ts_df['compid'].unique():\n",
    "    tmpdf = last_ts_df[(last_ts_df['compid'] == comps)]\n",
    "    tmpdf = tmpdf['volumeutilization'].values\n",
    "    tmpdf = tmpdf.reshape(sequence_in,1)\n",
    "    fut_preds.append(tmpdf)"
   ]
  },
  {
   "cell_type": "code",
   "execution_count": 91,
   "metadata": {},
   "outputs": [
    {
     "data": {
      "text/plain": [
       "(249, 14, 1)"
      ]
     },
     "execution_count": 91,
     "metadata": {},
     "output_type": "execute_result"
    }
   ],
   "source": [
    "fut_preds = np.asarray(fut_preds)\n",
    "fut_preds.shape"
   ]
  },
  {
   "cell_type": "code",
   "execution_count": 94,
   "metadata": {},
   "outputs": [],
   "source": [
    "futpreds = simpleseq.predict(fut_preds)"
   ]
  },
  {
   "cell_type": "code",
   "execution_count": 111,
   "metadata": {},
   "outputs": [
    {
     "data": {
      "text/plain": [
       "[Timestamp('2020-10-06 00:00:00'),\n",
       " Timestamp('2020-10-07 00:00:00'),\n",
       " Timestamp('2020-10-08 00:00:00'),\n",
       " Timestamp('2020-10-09 00:00:00'),\n",
       " Timestamp('2020-10-10 00:00:00'),\n",
       " Timestamp('2020-10-11 00:00:00'),\n",
       " Timestamp('2020-10-12 00:00:00')]"
      ]
     },
     "execution_count": 111,
     "metadata": {},
     "output_type": "execute_result"
    }
   ],
   "source": [
    "#create future dates\n",
    "futdates = []\n",
    "from pandas.tseries.offsets import DateOffset\n",
    "for i in range(1,sequence_out+1):\n",
    "    ts = maxdate + DateOffset(days=i)\n",
    "    futdates.append(ts)\n",
    "\n",
    "    \n",
    "#"
   ]
  },
  {
   "cell_type": "code",
   "execution_count": 132,
   "metadata": {},
   "outputs": [],
   "source": [
    "forecast_df = pd.DataFrame()\n",
    "for each in range(len(futpreds)):\n",
    "    xdf = futpreds[each]\n",
    "    xdf[xdf < 0] = 0\n",
    "    xdf[xdf > 1] = 1\n",
    "    xdf = pd.DataFrame(futpreds[each],index=futdates)\n",
    "    xdf['compid'] = each\n",
    "    forecast_df = forecast_df.append(xdf)\n",
    "    "
   ]
  },
  {
   "cell_type": "code",
   "execution_count": 133,
   "metadata": {},
   "outputs": [
    {
     "data": {
      "text/html": [
       "<div>\n",
       "<style scoped>\n",
       "    .dataframe tbody tr th:only-of-type {\n",
       "        vertical-align: middle;\n",
       "    }\n",
       "\n",
       "    .dataframe tbody tr th {\n",
       "        vertical-align: top;\n",
       "    }\n",
       "\n",
       "    .dataframe thead th {\n",
       "        text-align: right;\n",
       "    }\n",
       "</style>\n",
       "<table border=\"1\" class=\"dataframe\">\n",
       "  <thead>\n",
       "    <tr style=\"text-align: right;\">\n",
       "      <th></th>\n",
       "      <th>compid</th>\n",
       "      <th>volumeutilization</th>\n",
       "    </tr>\n",
       "    <tr>\n",
       "      <th>date</th>\n",
       "      <th></th>\n",
       "      <th></th>\n",
       "    </tr>\n",
       "  </thead>\n",
       "  <tbody>\n",
       "    <tr>\n",
       "      <th>2020-10-06</th>\n",
       "      <td>0</td>\n",
       "      <td>0.137103</td>\n",
       "    </tr>\n",
       "    <tr>\n",
       "      <th>2020-10-07</th>\n",
       "      <td>0</td>\n",
       "      <td>0.097359</td>\n",
       "    </tr>\n",
       "    <tr>\n",
       "      <th>2020-10-08</th>\n",
       "      <td>0</td>\n",
       "      <td>0.103423</td>\n",
       "    </tr>\n",
       "    <tr>\n",
       "      <th>2020-10-09</th>\n",
       "      <td>0</td>\n",
       "      <td>0.093287</td>\n",
       "    </tr>\n",
       "    <tr>\n",
       "      <th>2020-10-10</th>\n",
       "      <td>0</td>\n",
       "      <td>0.070450</td>\n",
       "    </tr>\n",
       "    <tr>\n",
       "      <th>...</th>\n",
       "      <td>...</td>\n",
       "      <td>...</td>\n",
       "    </tr>\n",
       "    <tr>\n",
       "      <th>2020-10-08</th>\n",
       "      <td>248</td>\n",
       "      <td>0.312970</td>\n",
       "    </tr>\n",
       "    <tr>\n",
       "      <th>2020-10-09</th>\n",
       "      <td>248</td>\n",
       "      <td>0.343661</td>\n",
       "    </tr>\n",
       "    <tr>\n",
       "      <th>2020-10-10</th>\n",
       "      <td>248</td>\n",
       "      <td>0.362627</td>\n",
       "    </tr>\n",
       "    <tr>\n",
       "      <th>2020-10-11</th>\n",
       "      <td>248</td>\n",
       "      <td>0.339272</td>\n",
       "    </tr>\n",
       "    <tr>\n",
       "      <th>2020-10-12</th>\n",
       "      <td>248</td>\n",
       "      <td>0.297101</td>\n",
       "    </tr>\n",
       "  </tbody>\n",
       "</table>\n",
       "<p>1743 rows × 2 columns</p>\n",
       "</div>"
      ],
      "text/plain": [
       "            compid  volumeutilization\n",
       "date                                 \n",
       "2020-10-06       0           0.137103\n",
       "2020-10-07       0           0.097359\n",
       "2020-10-08       0           0.103423\n",
       "2020-10-09       0           0.093287\n",
       "2020-10-10       0           0.070450\n",
       "...            ...                ...\n",
       "2020-10-08     248           0.312970\n",
       "2020-10-09     248           0.343661\n",
       "2020-10-10     248           0.362627\n",
       "2020-10-11     248           0.339272\n",
       "2020-10-12     248           0.297101\n",
       "\n",
       "[1743 rows x 2 columns]"
      ]
     },
     "execution_count": 133,
     "metadata": {},
     "output_type": "execute_result"
    }
   ],
   "source": [
    "forecast_df.index.name = 'date'\n",
    "forecast_df.columns = ['volumeutilization','compid']\n",
    "forecast_df = forecast_df[['compid','volumeutilization']]\n",
    "forecast_df"
   ]
  },
  {
   "cell_type": "code",
   "execution_count": 134,
   "metadata": {},
   "outputs": [
    {
     "data": {
      "text/html": [
       "<div>\n",
       "<style scoped>\n",
       "    .dataframe tbody tr th:only-of-type {\n",
       "        vertical-align: middle;\n",
       "    }\n",
       "\n",
       "    .dataframe tbody tr th {\n",
       "        vertical-align: top;\n",
       "    }\n",
       "\n",
       "    .dataframe thead th {\n",
       "        text-align: right;\n",
       "    }\n",
       "</style>\n",
       "<table border=\"1\" class=\"dataframe\">\n",
       "  <thead>\n",
       "    <tr style=\"text-align: right;\">\n",
       "      <th></th>\n",
       "      <th>date</th>\n",
       "      <th>volumeutilization</th>\n",
       "      <th>system</th>\n",
       "      <th>pool</th>\n",
       "      <th>volume</th>\n",
       "    </tr>\n",
       "  </thead>\n",
       "  <tbody>\n",
       "    <tr>\n",
       "      <th>0</th>\n",
       "      <td>2020-10-06</td>\n",
       "      <td>0.137103</td>\n",
       "      <td>SVC-2145-SXED0PSVC0001-IBM</td>\n",
       "      <td>SXED0V370001-ACTVQRM</td>\n",
       "      <td>ED0_MGMT01_TPC-d15</td>\n",
       "    </tr>\n",
       "    <tr>\n",
       "      <th>1</th>\n",
       "      <td>2020-10-07</td>\n",
       "      <td>0.097359</td>\n",
       "      <td>SVC-2145-SXED0PSVC0001-IBM</td>\n",
       "      <td>SXED0V370001-ACTVQRM</td>\n",
       "      <td>ED0_MGMT01_TPC-d15</td>\n",
       "    </tr>\n",
       "    <tr>\n",
       "      <th>2</th>\n",
       "      <td>2020-10-08</td>\n",
       "      <td>0.103423</td>\n",
       "      <td>SVC-2145-SXED0PSVC0001-IBM</td>\n",
       "      <td>SXED0V370001-ACTVQRM</td>\n",
       "      <td>ED0_MGMT01_TPC-d15</td>\n",
       "    </tr>\n",
       "    <tr>\n",
       "      <th>3</th>\n",
       "      <td>2020-10-09</td>\n",
       "      <td>0.093287</td>\n",
       "      <td>SVC-2145-SXED0PSVC0001-IBM</td>\n",
       "      <td>SXED0V370001-ACTVQRM</td>\n",
       "      <td>ED0_MGMT01_TPC-d15</td>\n",
       "    </tr>\n",
       "    <tr>\n",
       "      <th>4</th>\n",
       "      <td>2020-10-10</td>\n",
       "      <td>0.070450</td>\n",
       "      <td>SVC-2145-SXED0PSVC0001-IBM</td>\n",
       "      <td>SXED0V370001-ACTVQRM</td>\n",
       "      <td>ED0_MGMT01_TPC-d15</td>\n",
       "    </tr>\n",
       "    <tr>\n",
       "      <th>...</th>\n",
       "      <td>...</td>\n",
       "      <td>...</td>\n",
       "      <td>...</td>\n",
       "      <td>...</td>\n",
       "      <td>...</td>\n",
       "    </tr>\n",
       "    <tr>\n",
       "      <th>1738</th>\n",
       "      <td>2020-10-08</td>\n",
       "      <td>0.312970</td>\n",
       "      <td>SVC-2145-SXED0PSVC0001-IBM</td>\n",
       "      <td>SXED2PXIV0002-T3</td>\n",
       "      <td>ED0_MGMT01_T3-d4</td>\n",
       "    </tr>\n",
       "    <tr>\n",
       "      <th>1739</th>\n",
       "      <td>2020-10-09</td>\n",
       "      <td>0.343661</td>\n",
       "      <td>SVC-2145-SXED0PSVC0001-IBM</td>\n",
       "      <td>SXED2PXIV0002-T3</td>\n",
       "      <td>ED0_MGMT01_T3-d4</td>\n",
       "    </tr>\n",
       "    <tr>\n",
       "      <th>1740</th>\n",
       "      <td>2020-10-10</td>\n",
       "      <td>0.362627</td>\n",
       "      <td>SVC-2145-SXED0PSVC0001-IBM</td>\n",
       "      <td>SXED2PXIV0002-T3</td>\n",
       "      <td>ED0_MGMT01_T3-d4</td>\n",
       "    </tr>\n",
       "    <tr>\n",
       "      <th>1741</th>\n",
       "      <td>2020-10-11</td>\n",
       "      <td>0.339272</td>\n",
       "      <td>SVC-2145-SXED0PSVC0001-IBM</td>\n",
       "      <td>SXED2PXIV0002-T3</td>\n",
       "      <td>ED0_MGMT01_T3-d4</td>\n",
       "    </tr>\n",
       "    <tr>\n",
       "      <th>1742</th>\n",
       "      <td>2020-10-12</td>\n",
       "      <td>0.297101</td>\n",
       "      <td>SVC-2145-SXED0PSVC0001-IBM</td>\n",
       "      <td>SXED2PXIV0002-T3</td>\n",
       "      <td>ED0_MGMT01_T3-d4</td>\n",
       "    </tr>\n",
       "  </tbody>\n",
       "</table>\n",
       "<p>1743 rows × 5 columns</p>\n",
       "</div>"
      ],
      "text/plain": [
       "           date  volumeutilization                      system  \\\n",
       "0    2020-10-06           0.137103  SVC-2145-SXED0PSVC0001-IBM   \n",
       "1    2020-10-07           0.097359  SVC-2145-SXED0PSVC0001-IBM   \n",
       "2    2020-10-08           0.103423  SVC-2145-SXED0PSVC0001-IBM   \n",
       "3    2020-10-09           0.093287  SVC-2145-SXED0PSVC0001-IBM   \n",
       "4    2020-10-10           0.070450  SVC-2145-SXED0PSVC0001-IBM   \n",
       "...         ...                ...                         ...   \n",
       "1738 2020-10-08           0.312970  SVC-2145-SXED0PSVC0001-IBM   \n",
       "1739 2020-10-09           0.343661  SVC-2145-SXED0PSVC0001-IBM   \n",
       "1740 2020-10-10           0.362627  SVC-2145-SXED0PSVC0001-IBM   \n",
       "1741 2020-10-11           0.339272  SVC-2145-SXED0PSVC0001-IBM   \n",
       "1742 2020-10-12           0.297101  SVC-2145-SXED0PSVC0001-IBM   \n",
       "\n",
       "                      pool              volume  \n",
       "0     SXED0V370001-ACTVQRM  ED0_MGMT01_TPC-d15  \n",
       "1     SXED0V370001-ACTVQRM  ED0_MGMT01_TPC-d15  \n",
       "2     SXED0V370001-ACTVQRM  ED0_MGMT01_TPC-d15  \n",
       "3     SXED0V370001-ACTVQRM  ED0_MGMT01_TPC-d15  \n",
       "4     SXED0V370001-ACTVQRM  ED0_MGMT01_TPC-d15  \n",
       "...                    ...                 ...  \n",
       "1738      SXED2PXIV0002-T3    ED0_MGMT01_T3-d4  \n",
       "1739      SXED2PXIV0002-T3    ED0_MGMT01_T3-d4  \n",
       "1740      SXED2PXIV0002-T3    ED0_MGMT01_T3-d4  \n",
       "1741      SXED2PXIV0002-T3    ED0_MGMT01_T3-d4  \n",
       "1742      SXED2PXIV0002-T3    ED0_MGMT01_T3-d4  \n",
       "\n",
       "[1743 rows x 5 columns]"
      ]
     },
     "execution_count": 134,
     "metadata": {},
     "output_type": "execute_result"
    }
   ],
   "source": [
    "forecast_df = forecast_df.reset_index().merge(uniqcomponents,on=['compid']).drop(['compid'],axis=1)\n",
    "forecast_df"
   ]
  },
  {
   "cell_type": "code",
   "execution_count": 135,
   "metadata": {},
   "outputs": [
    {
     "data": {
      "text/html": [
       "<div>\n",
       "<style scoped>\n",
       "    .dataframe tbody tr th:only-of-type {\n",
       "        vertical-align: middle;\n",
       "    }\n",
       "\n",
       "    .dataframe tbody tr th {\n",
       "        vertical-align: top;\n",
       "    }\n",
       "\n",
       "    .dataframe thead th {\n",
       "        text-align: right;\n",
       "    }\n",
       "</style>\n",
       "<table border=\"1\" class=\"dataframe\">\n",
       "  <thead>\n",
       "    <tr style=\"text-align: right;\">\n",
       "      <th></th>\n",
       "      <th>compid</th>\n",
       "      <th>volumeutilization</th>\n",
       "    </tr>\n",
       "    <tr>\n",
       "      <th>date</th>\n",
       "      <th></th>\n",
       "      <th></th>\n",
       "    </tr>\n",
       "  </thead>\n",
       "  <tbody>\n",
       "    <tr>\n",
       "      <th>2020-04-20</th>\n",
       "      <td>0</td>\n",
       "      <td>0.018312</td>\n",
       "    </tr>\n",
       "    <tr>\n",
       "      <th>2020-04-21</th>\n",
       "      <td>0</td>\n",
       "      <td>0.031167</td>\n",
       "    </tr>\n",
       "    <tr>\n",
       "      <th>2020-04-22</th>\n",
       "      <td>0</td>\n",
       "      <td>0.036475</td>\n",
       "    </tr>\n",
       "    <tr>\n",
       "      <th>2020-04-23</th>\n",
       "      <td>0</td>\n",
       "      <td>0.034542</td>\n",
       "    </tr>\n",
       "    <tr>\n",
       "      <th>2020-04-24</th>\n",
       "      <td>0</td>\n",
       "      <td>0.037558</td>\n",
       "    </tr>\n",
       "  </tbody>\n",
       "</table>\n",
       "</div>"
      ],
      "text/plain": [
       "            compid  volumeutilization\n",
       "date                                 \n",
       "2020-04-20       0           0.018312\n",
       "2020-04-21       0           0.031167\n",
       "2020-04-22       0           0.036475\n",
       "2020-04-23       0           0.034542\n",
       "2020-04-24       0           0.037558"
      ]
     },
     "execution_count": 135,
     "metadata": {},
     "output_type": "execute_result"
    }
   ],
   "source": [
    "data.head()"
   ]
  },
  {
   "cell_type": "code",
   "execution_count": null,
   "metadata": {},
   "outputs": [],
   "source": []
  }
 ],
 "metadata": {
  "kernelspec": {
   "display_name": "Python 3.8.5 64-bit ('storage': venv)",
   "language": "python",
   "name": "python38564bitstoragevenv7426f9e9e41940ddb20e508cd1fdfa65"
  },
  "language_info": {
   "codemirror_mode": {
    "name": "ipython",
    "version": 3
   },
   "file_extension": ".py",
   "mimetype": "text/x-python",
   "name": "python",
   "nbconvert_exporter": "python",
   "pygments_lexer": "ipython3",
   "version": "3.8.5"
  }
 },
 "nbformat": 4,
 "nbformat_minor": 4
}
